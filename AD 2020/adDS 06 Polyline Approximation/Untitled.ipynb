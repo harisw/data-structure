{
 "cells": [
  {
   "cell_type": "code",
   "execution_count": 1,
   "metadata": {},
   "outputs": [
    {
     "name": "stdout",
     "output_type": "stream",
     "text": [
      "Total days in apple stock recorded: 8993\n"
     ]
    }
   ],
   "source": [
    "#-------------------------------------------------------------------------------\n",
    "# Purpose:     2020 컴퓨터및 프로그래밍 입문\n",
    "# Author:      Cho\n",
    "# Created:     2020-04-20\n",
    "#-------------------------------------------------------------------------------\n",
    "\n",
    "import random\n",
    "import csv\n",
    "\n",
    "count = 0\n",
    "\n",
    "\n",
    "with open('AppleStock.csv', newline='') as afile:\n",
    "#with open('small.csv', newline='') as afile:\n",
    "    apple = list(csv.reader( afile))\n",
    "\n",
    "print(\"Total days in apple stock recorded:\",  len(apple) )\n",
    "\n",
    "Applist = []\n",
    "for w in apple :\n",
    "    oneday= ( w[0], float(w[4]), int(w[5]) )\n",
    "    Applist.append( oneday )"
   ]
  }
 ],
 "metadata": {
  "kernelspec": {
   "display_name": "Python 3",
   "language": "python",
   "name": "python3"
  },
  "language_info": {
   "codemirror_mode": {
    "name": "ipython",
    "version": 3
   },
   "file_extension": ".py",
   "mimetype": "text/x-python",
   "name": "python",
   "nbconvert_exporter": "python",
   "pygments_lexer": "ipython3",
   "version": "3.7.2"
  }
 },
 "nbformat": 4,
 "nbformat_minor": 4
}
